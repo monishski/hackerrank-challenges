{
 "cells": [
  {
   "cell_type": "code",
   "execution_count": 93,
   "metadata": {},
   "outputs": [],
   "source": [
    "class Node(object):\n",
    "\n",
    "    def __init__(self, value):\n",
    "        self.value = value\n",
    "        self.next = None\n",
    "\n",
    "class SinglyLinkedList(object):\n",
    "\n",
    "    def __init__(self, head=None):\n",
    "        self.head = Node(head)\n",
    "\n",
    "    def insert_node(self, value):\n",
    "        current_node = self.head\n",
    "        if current_node.value:\n",
    "            while current_node.next:\n",
    "                current_node = current_node.next\n",
    "            current_node.next = Node(value)\n",
    "        else:\n",
    "            self.head = Node(value)"
   ]
  },
  {
   "cell_type": "code",
   "execution_count": 169,
   "metadata": {
    "scrolled": true
   },
   "outputs": [
    {
     "name": "stdout",
     "output_type": "stream",
     "text": [
      "16\n",
      "13\n",
      "1\n",
      "None\n"
     ]
    }
   ],
   "source": [
    "ll = SinglyLinkedList()\n",
    "\n",
    "ll.insert_node(16)\n",
    "ll.insert_node(13)\n",
    "ll.insert_node(1)\n",
    "\n",
    "print(ll.head.value)\n",
    "print(ll.head.next.value)\n",
    "print(ll.head.next.next.value)\n",
    "print(ll.head.next.next.next)"
   ]
  },
  {
   "cell_type": "code",
   "execution_count": 170,
   "metadata": {},
   "outputs": [],
   "source": [
    "def insertNodeAtPosition(head, data, position): \n",
    "    new_node = Node(data)\n",
    "    if position==0:\n",
    "        new_node.next = head\n",
    "        head = new_node\n",
    "    else:\n",
    "        curr_node = head\n",
    "        curr_node_pos = 0\n",
    "        while curr_node.next:\n",
    "            curr_node_pos+=1\n",
    "            if curr_node_pos==position:\n",
    "                temp = curr_node.next\n",
    "                curr_node.next = new_node \n",
    "                new_node.next = temp\n",
    "                break\n",
    "            else:\n",
    "                curr_node = curr_node.next\n",
    "    return head"
   ]
  },
  {
   "cell_type": "code",
   "execution_count": 171,
   "metadata": {},
   "outputs": [],
   "source": [
    "ll_head = insertNodeAtPosition(ll.head, 7, 2)"
   ]
  },
  {
   "cell_type": "code",
   "execution_count": 172,
   "metadata": {},
   "outputs": [
    {
     "name": "stdout",
     "output_type": "stream",
     "text": [
      "16\n",
      "13\n",
      "7\n",
      "1\n"
     ]
    }
   ],
   "source": [
    "print(ll_head.value)\n",
    "print(ll_head.next.value)\n",
    "print(ll_head.next.next.value)\n",
    "print(ll_head.next.next.next.value)"
   ]
  }
 ],
 "metadata": {
  "kernelspec": {
   "display_name": "Python 3",
   "language": "python",
   "name": "python3"
  },
  "language_info": {
   "codemirror_mode": {
    "name": "ipython",
    "version": 3
   },
   "file_extension": ".py",
   "mimetype": "text/x-python",
   "name": "python",
   "nbconvert_exporter": "python",
   "pygments_lexer": "ipython3",
   "version": "3.7.3"
  }
 },
 "nbformat": 4,
 "nbformat_minor": 2
}
